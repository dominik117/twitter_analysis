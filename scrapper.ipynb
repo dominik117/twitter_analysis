{
 "cells": [
  {
   "cell_type": "markdown",
   "metadata": {},
   "source": [
    "Use SNScrappe\n",
    "\n",
    "https://github.com/JustAnotherArchivist/snscrape"
   ]
  },
  {
   "cell_type": "code",
   "execution_count": null,
   "metadata": {},
   "outputs": [],
   "source": [
    "query = 'snscrape --jsonl --progress --max-results 2000 twitter-search \"from:BillGates -filter:replies\" > user-tweets.json'"
   ]
  },
  {
   "cell_type": "code",
   "execution_count": 1,
   "metadata": {},
   "outputs": [
    {
     "ename": "SyntaxError",
     "evalue": "invalid syntax (610650845.py, line 1)",
     "output_type": "error",
     "traceback": [
      "\u001b[0;36m  Input \u001b[0;32mIn [1]\u001b[0;36m\u001b[0m\n\u001b[0;31m    called snscraper (it is for almost all social media)\u001b[0m\n\u001b[0m           ^\u001b[0m\n\u001b[0;31mSyntaxError\u001b[0m\u001b[0;31m:\u001b[0m invalid syntax\n"
     ]
    }
   ],
   "source": [
    "# called snscraper (it is for almost all social media)\n",
    "# import sn\n",
    "\n",
    "# q_sund = '(from:tim_cook) until:2021-12-31 since:2015-01-01 -filter:replies'\n",
    "\n",
    "# sund_tweets = []\n",
    "\n",
    "# for tweet in snt.TwitterSearchScraper(q_sund).get_items():\n",
    "#     #print(vars(tweet))\n",
    "#     #break\n",
    "#     sund_tweets.append([tweet.date, tweet.content, tweet.user.username,tweet.replyCount, tweet.retweetCount,tweet.likeCount])"
   ]
  },
  {
   "cell_type": "code",
   "execution_count": 4,
   "metadata": {},
   "outputs": [],
   "source": [
    "df = pd.read_json('user-tweets.json', lines=True)"
   ]
  },
  {
   "cell_type": "code",
   "execution_count": 5,
   "metadata": {},
   "outputs": [
    {
     "data": {
      "text/html": [
       "<div>\n",
       "<style scoped>\n",
       "    .dataframe tbody tr th:only-of-type {\n",
       "        vertical-align: middle;\n",
       "    }\n",
       "\n",
       "    .dataframe tbody tr th {\n",
       "        vertical-align: top;\n",
       "    }\n",
       "\n",
       "    .dataframe thead th {\n",
       "        text-align: right;\n",
       "    }\n",
       "</style>\n",
       "<table border=\"1\" class=\"dataframe\">\n",
       "  <thead>\n",
       "    <tr style=\"text-align: right;\">\n",
       "      <th></th>\n",
       "      <th>_type</th>\n",
       "      <th>url</th>\n",
       "      <th>date</th>\n",
       "      <th>content</th>\n",
       "      <th>renderedContent</th>\n",
       "      <th>id</th>\n",
       "      <th>user</th>\n",
       "      <th>replyCount</th>\n",
       "      <th>retweetCount</th>\n",
       "      <th>likeCount</th>\n",
       "      <th>...</th>\n",
       "      <th>media</th>\n",
       "      <th>retweetedTweet</th>\n",
       "      <th>quotedTweet</th>\n",
       "      <th>inReplyToTweetId</th>\n",
       "      <th>inReplyToUser</th>\n",
       "      <th>mentionedUsers</th>\n",
       "      <th>coordinates</th>\n",
       "      <th>place</th>\n",
       "      <th>hashtags</th>\n",
       "      <th>cashtags</th>\n",
       "    </tr>\n",
       "  </thead>\n",
       "  <tbody>\n",
       "    <tr>\n",
       "      <th>0</th>\n",
       "      <td>snscrape.modules.twitter.Tweet</td>\n",
       "      <td>https://twitter.com/BillGates/status/152949383...</td>\n",
       "      <td>2022-05-25 16:05:22+00:00</td>\n",
       "      <td>The school shooting in Texas is heartbreaking....</td>\n",
       "      <td>The school shooting in Texas is heartbreaking....</td>\n",
       "      <td>1529493838665945089</td>\n",
       "      <td>{'_type': 'snscrape.modules.twitter.User', 'us...</td>\n",
       "      <td>0</td>\n",
       "      <td>607</td>\n",
       "      <td>5577</td>\n",
       "      <td>...</td>\n",
       "      <td>None</td>\n",
       "      <td>NaN</td>\n",
       "      <td>None</td>\n",
       "      <td>NaN</td>\n",
       "      <td>NaN</td>\n",
       "      <td>None</td>\n",
       "      <td>NaN</td>\n",
       "      <td>NaN</td>\n",
       "      <td>None</td>\n",
       "      <td>NaN</td>\n",
       "    </tr>\n",
       "    <tr>\n",
       "      <th>1</th>\n",
       "      <td>snscrape.modules.twitter.Tweet</td>\n",
       "      <td>https://twitter.com/BillGates/status/152914576...</td>\n",
       "      <td>2022-05-24 17:02:16+00:00</td>\n",
       "      <td>Not long ago, the world increased aid for glob...</td>\n",
       "      <td>Not long ago, the world increased aid for glob...</td>\n",
       "      <td>1529145769516707840</td>\n",
       "      <td>{'_type': 'snscrape.modules.twitter.User', 'us...</td>\n",
       "      <td>0</td>\n",
       "      <td>238</td>\n",
       "      <td>1609</td>\n",
       "      <td>...</td>\n",
       "      <td>None</td>\n",
       "      <td>NaN</td>\n",
       "      <td>None</td>\n",
       "      <td>NaN</td>\n",
       "      <td>NaN</td>\n",
       "      <td>None</td>\n",
       "      <td>NaN</td>\n",
       "      <td>NaN</td>\n",
       "      <td>None</td>\n",
       "      <td>NaN</td>\n",
       "    </tr>\n",
       "  </tbody>\n",
       "</table>\n",
       "<p>2 rows × 28 columns</p>\n",
       "</div>"
      ],
      "text/plain": [
       "                            _type  \\\n",
       "0  snscrape.modules.twitter.Tweet   \n",
       "1  snscrape.modules.twitter.Tweet   \n",
       "\n",
       "                                                 url  \\\n",
       "0  https://twitter.com/BillGates/status/152949383...   \n",
       "1  https://twitter.com/BillGates/status/152914576...   \n",
       "\n",
       "                       date  \\\n",
       "0 2022-05-25 16:05:22+00:00   \n",
       "1 2022-05-24 17:02:16+00:00   \n",
       "\n",
       "                                             content  \\\n",
       "0  The school shooting in Texas is heartbreaking....   \n",
       "1  Not long ago, the world increased aid for glob...   \n",
       "\n",
       "                                     renderedContent                   id  \\\n",
       "0  The school shooting in Texas is heartbreaking....  1529493838665945089   \n",
       "1  Not long ago, the world increased aid for glob...  1529145769516707840   \n",
       "\n",
       "                                                user  replyCount  \\\n",
       "0  {'_type': 'snscrape.modules.twitter.User', 'us...           0   \n",
       "1  {'_type': 'snscrape.modules.twitter.User', 'us...           0   \n",
       "\n",
       "   retweetCount  likeCount  ...  media  retweetedTweet quotedTweet  \\\n",
       "0           607       5577  ...   None             NaN        None   \n",
       "1           238       1609  ...   None             NaN        None   \n",
       "\n",
       "  inReplyToTweetId inReplyToUser mentionedUsers coordinates place hashtags  \\\n",
       "0              NaN           NaN           None         NaN   NaN     None   \n",
       "1              NaN           NaN           None         NaN   NaN     None   \n",
       "\n",
       "   cashtags  \n",
       "0       NaN  \n",
       "1       NaN  \n",
       "\n",
       "[2 rows x 28 columns]"
      ]
     },
     "execution_count": 5,
     "metadata": {},
     "output_type": "execute_result"
    }
   ],
   "source": [
    "df.head(2)"
   ]
  },
  {
   "cell_type": "code",
   "execution_count": 7,
   "metadata": {},
   "outputs": [],
   "source": [
    "df.to_csv(f'bill_gates_tweets.csv')"
   ]
  },
  {
   "cell_type": "code",
   "execution_count": null,
   "metadata": {},
   "outputs": [],
   "source": []
  }
 ],
 "metadata": {
  "kernelspec": {
   "display_name": "Python 3.10.3 64-bit ('3.10.3')",
   "language": "python",
   "name": "python3"
  },
  "language_info": {
   "codemirror_mode": {
    "name": "ipython",
    "version": 3
   },
   "file_extension": ".py",
   "mimetype": "text/x-python",
   "name": "python",
   "nbconvert_exporter": "python",
   "pygments_lexer": "ipython3",
   "version": "3.10.3"
  },
  "orig_nbformat": 4,
  "vscode": {
   "interpreter": {
    "hash": "94627226135ee5357f89bc5939f3670a0ca0f858916fb65ba0fc658c6de38e68"
   }
  }
 },
 "nbformat": 4,
 "nbformat_minor": 2
}
