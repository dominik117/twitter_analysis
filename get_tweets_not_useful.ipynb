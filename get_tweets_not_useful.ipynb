{
 "cells": [
  {
   "cell_type": "markdown",
   "metadata": {},
   "source": [
    "# Get all Tweets from a user and save it so a CSV File"
   ]
  },
  {
   "cell_type": "markdown",
   "metadata": {},
   "source": [
    "### All you have to do is enter the Twitter's username in the variable bellow, and run the notebook"
   ]
  },
  {
   "cell_type": "code",
   "execution_count": 18,
   "metadata": {},
   "outputs": [],
   "source": [
    "screen_name = 'tim_cook' #ominikbacher7'"
   ]
  },
  {
   "cell_type": "code",
   "execution_count": 2,
   "metadata": {},
   "outputs": [],
   "source": [
    "import tweepy\n",
    "import pandas as pd\n",
    "from my_keys import *  # Import file with Twitter API access keys"
   ]
  },
  {
   "cell_type": "code",
   "execution_count": 19,
   "metadata": {},
   "outputs": [],
   "source": [
    "def get_all_tweets(screen_name):\n",
    "\tauth = tweepy.OAuthHandler(consumer_key, consumer_secret)\n",
    "\tauth.set_access_token(access_token, access_token_secret)\n",
    "\n",
    "\tapi = tweepy.API(auth)\n",
    "\n",
    "\tall_tweets = []\n",
    "\n",
    "\tnew_tweets = api.user_timeline(screen_name=screen_name, count=200)\n",
    "\tall_tweets.extend(new_tweets)\n",
    "\t\n",
    "\t# This will save the ID of the oldest tweet\n",
    "\toldest = all_tweets[-1].id-1\n",
    "\n",
    "\twhile len(new_tweets) > 0:\n",
    "\t\t#print (f\"Fetching the tweets before {oldest} id\")\n",
    "\t\t\n",
    "\t\t# Use the max_id param to prevent duplicates\n",
    "\t\tnew_tweets = api.user_timeline(screen_name=screen_name, count=200, max_id=oldest)\n",
    "\t\t\n",
    "\t\tall_tweets.extend(new_tweets)\n",
    "\t\t\n",
    "\t\t# Update the oldest ID\n",
    "\t\toldest = all_tweets[-1].id-1\n",
    "\t\tprint (f\"{len(all_tweets)} tweets have been fetched...\")\n",
    "\n",
    "\n",
    "\t# Create empty dictionary\n",
    "\tall_tweets_dict = {}\n",
    "\n",
    "\t# Create some keys for the dictionary, with empty list for each value\n",
    "\tkey_list = ['id', 'created_at', 'text', 'in_reply_to_status_id', 'in_reply_to_user_id', 'in_reply_to_screen_name',\n",
    "\t\t'geo', 'coordinates', 'place', 'contributors',\n",
    "\t\t'is_quote_status', 'retweet_count', 'favorite_count', 'favorited', 'retweeted', 'truncated']\n",
    "\tfor key in key_list:\n",
    "\t\tall_tweets_dict[key] = []\n",
    "\t\n",
    "\t# List with the keys for the 'user' JSON key, which is a dictionary inside the main dictionary\n",
    "\t#    Then add the keys to the dictionary, again with empty list for each value\n",
    "\tuser_list = ['id_str'] #, 'name', 'screen_name', 'followers_count', 'friends_count', 'listed_count', 'location', 'verified']\n",
    "\tfor key in user_list:\n",
    "\t\tall_tweets_dict[key] = []\n",
    "\t\n",
    "\n",
    "\t# Fill the previous dictionary with the values from the JSON query\n",
    "\tfor tweet in all_tweets:\n",
    "\t\tfor key in key_list:\n",
    "\t\t\tall_tweets_dict[key].append(tweet._json[key])\n",
    "\t\tfor key in user_list:\n",
    "\t\t\tall_tweets_dict[key].append(tweet._json['user'][key])\n",
    "\t\t\t\n",
    "\t# Change user id key so it's understood\n",
    "\tall_tweets_dict['user_id'] = all_tweets_dict.pop('id_str') # Change user id key to be better understandable\n",
    "\n",
    "\tdf = pd.DataFrame.from_dict(all_tweets_dict)\n",
    "\n",
    "\treturn all_tweets"
   ]
  },
  {
   "cell_type": "code",
   "execution_count": 20,
   "metadata": {},
   "outputs": [
    {
     "name": "stdout",
     "output_type": "stream",
     "text": [
      "400 tweets have been fetched...\n",
      "600 tweets have been fetched...\n",
      "800 tweets have been fetched...\n",
      "1000 tweets have been fetched...\n",
      "1200 tweets have been fetched...\n",
      "1336 tweets have been fetched...\n",
      "1336 tweets have been fetched...\n"
     ]
    }
   ],
   "source": [
    "tweets_df = get_all_tweets(screen_name)"
   ]
  },
  {
   "cell_type": "code",
   "execution_count": 21,
   "metadata": {},
   "outputs": [
    {
     "data": {
      "text/plain": [
       "{'created_at': 'Thu May 19 01:17:10 +0000 2022',\n",
       " 'id': 1527095988812255233,\n",
       " 'id_str': '1527095988812255233',\n",
       " 'text': 'Prehistoric Planet came roaring to life at a dino-mite Today at Apple session! We connected dinosaur fans with prod… https://t.co/ra4bZqPBfp',\n",
       " 'truncated': True,\n",
       " 'entities': {'hashtags': [],\n",
       "  'symbols': [],\n",
       "  'user_mentions': [],\n",
       "  'urls': [{'url': 'https://t.co/ra4bZqPBfp',\n",
       "    'expanded_url': 'https://twitter.com/i/web/status/1527095988812255233',\n",
       "    'display_url': 'twitter.com/i/web/status/1…',\n",
       "    'indices': [117, 140]}]},\n",
       " 'source': '<a href=\"http://twitter.com/#!/download/ipad\" rel=\"nofollow\">Twitter for iPad</a>',\n",
       " 'in_reply_to_status_id': None,\n",
       " 'in_reply_to_status_id_str': None,\n",
       " 'in_reply_to_user_id': None,\n",
       " 'in_reply_to_user_id_str': None,\n",
       " 'in_reply_to_screen_name': None,\n",
       " 'user': {'id': 1636590253,\n",
       "  'id_str': '1636590253',\n",
       "  'name': 'Tim Cook',\n",
       "  'screen_name': 'tim_cook',\n",
       "  'location': 'Cupertino',\n",
       "  'description': \"Apple CEO \\uf8ff Auburn 🏀 🏈 Duke 🏀 National Parks 🏞️ “Life's most persistent and urgent question is, 'What are you doing for others?'” - MLK. he/him\",\n",
       "  'url': None,\n",
       "  'entities': {'description': {'urls': []}},\n",
       "  'protected': False,\n",
       "  'followers_count': 13506673,\n",
       "  'friends_count': 70,\n",
       "  'listed_count': 23874,\n",
       "  'created_at': 'Wed Jul 31 22:41:25 +0000 2013',\n",
       "  'favourites_count': 2029,\n",
       "  'utc_offset': None,\n",
       "  'time_zone': None,\n",
       "  'geo_enabled': True,\n",
       "  'verified': True,\n",
       "  'statuses_count': 1336,\n",
       "  'lang': None,\n",
       "  'contributors_enabled': False,\n",
       "  'is_translator': False,\n",
       "  'is_translation_enabled': False,\n",
       "  'profile_background_color': 'C0DEED',\n",
       "  'profile_background_image_url': 'http://abs.twimg.com/images/themes/theme1/bg.png',\n",
       "  'profile_background_image_url_https': 'https://abs.twimg.com/images/themes/theme1/bg.png',\n",
       "  'profile_background_tile': False,\n",
       "  'profile_image_url': 'http://pbs.twimg.com/profile_images/1403556543098916872/83tVAzyy_normal.jpg',\n",
       "  'profile_image_url_https': 'https://pbs.twimg.com/profile_images/1403556543098916872/83tVAzyy_normal.jpg',\n",
       "  'profile_banner_url': 'https://pbs.twimg.com/profile_banners/1636590253/1535753003',\n",
       "  'profile_link_color': '0084B4',\n",
       "  'profile_sidebar_border_color': 'FFFFFF',\n",
       "  'profile_sidebar_fill_color': 'DDEEF6',\n",
       "  'profile_text_color': '333333',\n",
       "  'profile_use_background_image': False,\n",
       "  'has_extended_profile': False,\n",
       "  'default_profile': False,\n",
       "  'default_profile_image': False,\n",
       "  'following': False,\n",
       "  'follow_request_sent': False,\n",
       "  'notifications': False,\n",
       "  'translator_type': 'none',\n",
       "  'withheld_in_countries': []},\n",
       " 'geo': None,\n",
       " 'coordinates': None,\n",
       " 'place': None,\n",
       " 'contributors': None,\n",
       " 'is_quote_status': False,\n",
       " 'retweet_count': 252,\n",
       " 'favorite_count': 2358,\n",
       " 'favorited': False,\n",
       " 'retweeted': False,\n",
       " 'possibly_sensitive': False,\n",
       " 'lang': 'en'}"
      ]
     },
     "execution_count": 21,
     "metadata": {},
     "output_type": "execute_result"
    }
   ],
   "source": [
    "tweets_df[2]._json"
   ]
  },
  {
   "cell_type": "code",
   "execution_count": 27,
   "metadata": {},
   "outputs": [],
   "source": [
    "tweets_df.to_csv(f'{screen_name}_tweets.csv')"
   ]
  },
  {
   "cell_type": "code",
   "execution_count": null,
   "metadata": {},
   "outputs": [],
   "source": []
  }
 ],
 "metadata": {
  "interpreter": {
   "hash": "6f4901e03c8e27300078339477a25025ac99e3939f7615b0b56182bd567f8cee"
  },
  "kernelspec": {
   "display_name": "Python 3.10.4 ('sit')",
   "language": "python",
   "name": "python3"
  },
  "language_info": {
   "codemirror_mode": {
    "name": "ipython",
    "version": 3
   },
   "file_extension": ".py",
   "mimetype": "text/x-python",
   "name": "python",
   "nbconvert_exporter": "python",
   "pygments_lexer": "ipython3",
   "version": "3.10.4"
  },
  "orig_nbformat": 4
 },
 "nbformat": 4,
 "nbformat_minor": 2
}
